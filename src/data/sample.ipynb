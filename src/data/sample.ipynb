{
 "cells": [
  {
   "cell_type": "code",
   "execution_count": 1,
   "metadata": {
    "collapsed": true
   },
   "outputs": [],
   "source": [
    "#!/usr/bin/env python3\n",
    "\"\"\"\n",
    "Data Generator for MovieNet\n",
    "\"\"\"\n",
    "\n",
    "import csv\n",
    "import datetime\n",
    "import numpy as np\n",
    "import os\n",
    "import pandas as pd\n",
    "\n",
    "import preprocess"
   ]
  },
  {
   "cell_type": "code",
   "execution_count": 2,
   "metadata": {
    "collapsed": true
   },
   "outputs": [],
   "source": [
    "options = {\n",
    "    'date': {\n",
    "        'max': '2020-01-01',\n",
    "        'min': '1970-01-01'\n",
    "    },\n",
    "    'gross': {\n",
    "        'max': float('inf'),\n",
    "        'min': 1\n",
    "    },\n",
    "    'theater_count': {\n",
    "        'max': float('inf'),\n",
    "        'min': 1\n",
    "    },\n",
    "    'day_in_release': {\n",
    "        'max': float('inf'),\n",
    "        'min': 1\n",
    "    },\n",
    "    'week_in_release': {\n",
    "        'max': float('inf'),\n",
    "        'min': 1\n",
    "    },\n",
    "}"
   ]
  },
  {
   "cell_type": "code",
   "execution_count": 3,
   "metadata": {
    "collapsed": true
   },
   "outputs": [],
   "source": [
    "def generate(mode, k=6, m=1e3, path=None, **options):\n",
    "    \"\"\"\n",
    "    Data Generator for MovieNet\n",
    "    \"\"\"\n",
    "    combination = Combination(mode, k, path, **options)\n",
    "    \n",
    "    movie = Movie(path)\n",
    "    \n",
    "    index, data = movie.index(), movie.data()\n",
    "    \n",
    "    m, n = int(m), data.shape[1] + 2\n",
    "    \n",
    "    n_X, n_Y = 1 + k * n, k\n",
    "    while True:\n",
    "        X, Y = np.zeros((m, n_X)), np.zeros((m, n_Y))\n",
    "        for i in range(m):\n",
    "            comb = next(combination)\n",
    "            for j in range(k):\n",
    "                a = 1 + j * n\n",
    "                b = a + n - 2\n",
    "                \n",
    "                X[i, a : b] = data[index[comb[j]['movie_ID']], :]\n",
    "                \n",
    "                X[i, b + 0] = comb[j]['theater_count']\n",
    "                X[i, b + 1] = comb[j]['in_release']\n",
    "                \n",
    "                Y[i, j] = comb[j]['gross']\n",
    "            \n",
    "            X[i, 0] = comb['date'].timetuple().tm_yday\n",
    "        \n",
    "        X, Y = preprocess.normalize(X, Y)\n",
    "        \n",
    "        yield X, Y"
   ]
  },
  {
   "cell_type": "code",
   "execution_count": 4,
   "metadata": {},
   "outputs": [],
   "source": [
    "class Data:\n",
    "    \"\"\"\n",
    "    Theatrical Box Office Data for MovieNet\n",
    "    \"\"\"\n",
    "    \n",
    "    # Default Directory for MovieNet Data\n",
    "    path = '../../data/'\n",
    "    \n",
    "    def __init__(self, path=None):\n",
    "        \"\"\"\n",
    "        Initialize Path to Directory for MovieNet Data\n",
    "        \"\"\"\n",
    "        if os.path.isdir(str(path)):\n",
    "            self.path = path"
   ]
  },
  {
   "cell_type": "code",
   "execution_count": 5,
   "metadata": {
    "collapsed": true
   },
   "outputs": [],
   "source": [
    "class Combination(Data):\n",
    "    \"\"\"\n",
    "    Iterator for Sampling Random Combinations of MovieNet Data\n",
    "    \"\"\"\n",
    "    \n",
    "    def __init__(self, mode, k=6, path=None, **options):\n",
    "        \"\"\"\n",
    "        Initialize Chart of Theatrical Box Office Competition\n",
    "        \"\"\"\n",
    "        super().__init__(path=path)\n",
    "        path = self.path + 'charts/{}.csv'.format(mode)\n",
    "        \n",
    "        chart = pd.read_csv(path, index_col=0, usecols=[0, 3, 5, 7, 10])\n",
    "        \n",
    "        for (i, v) in options.items():\n",
    "            if i == 'date':\n",
    "                chart = chart.loc[v['min']:v['max']]\n",
    "            elif i in chart.columns:\n",
    "                chart = chart.loc[chart[i].between(v['min'], v['max'])]\n",
    "        \n",
    "        chart.columns.values[-1] = 'in_release'\n",
    "        \n",
    "        self.chart = chart\n",
    "        self.k = int(k)\n",
    "    \n",
    "    def __iter__(self):\n",
    "        return self\n",
    "    \n",
    "    def __next__(self):\n",
    "        return self.generate()\n",
    "    \n",
    "    def generate(self, k=None):\n",
    "        \"\"\"\n",
    "        Return Random Combination of Theatrical Box Office Competition\n",
    "        \"\"\"\n",
    "        k = self.k if k is None else int(k)\n",
    "        \n",
    "        n = 0\n",
    "        while n < k:\n",
    "            date = self.chart.sample().index[0]\n",
    "            pool = self.chart.loc[date]\n",
    "            n = len(pool)\n",
    "        \n",
    "        combination = {'date': datetime.date(*[int(a) for a in date.split('-')])}\n",
    "        \n",
    "        for (i, v) in enumerate(pool.sample(k).values):\n",
    "            combination[i] = dict(zip(self.chart.columns, v))\n",
    "        \n",
    "        return combination"
   ]
  },
  {
   "cell_type": "code",
   "execution_count": 6,
   "metadata": {
    "collapsed": true
   },
   "outputs": [],
   "source": [
    "class Movie(Data):\n",
    "    \"\"\"\n",
    "    Index and Attributes of Theatrical Box Office Data\n",
    "    \"\"\"\n",
    "    \n",
    "    def __init__(self, path=None):\n",
    "        \"\"\"\n",
    "        Initialize Path to Directory for MovieNet Data\n",
    "        \"\"\"\n",
    "        super().__init__(path=path)\n",
    "        self.path += '{}.csv'\n",
    "    \n",
    "    def index(self):\n",
    "        \"\"\"\n",
    "        Return Index of Movies\n",
    "        \"\"\"\n",
    "        path = self.path.format('index')\n",
    "        \n",
    "        with open(path, 'r', newline='') as file:\n",
    "            l = list(csv.reader(file))\n",
    "        \n",
    "        index = [v for _ in l for v in _]\n",
    "        index = dict((v, i) for (i, v) in enumerate(index))\n",
    "        \n",
    "        return index\n",
    "    \n",
    "    def data(self):\n",
    "        \"\"\"\n",
    "        Return Movie Attributes\n",
    "        \"\"\"\n",
    "        path = self.path.format('movies')\n",
    "        \n",
    "        data = pd.read_csv(path)\n",
    "        \n",
    "        data = preprocess.vectorize(data)\n",
    "        \n",
    "        return data"
   ]
  },
  {
   "cell_type": "code",
   "execution_count": 7,
   "metadata": {
    "collapsed": true
   },
   "outputs": [],
   "source": [
    "comb = Combination('weekend')"
   ]
  },
  {
   "cell_type": "code",
   "execution_count": 8,
   "metadata": {},
   "outputs": [
    {
     "data": {
      "text/plain": [
       "{'date': datetime.date(2007, 3, 9),\n",
       " 0: {'gross': 61875,\n",
       "  'in_release': 7,\n",
       "  'movie_ID': 'Smokin-Aces',\n",
       "  'theater_count': 99},\n",
       " 1: {'gross': 102265,\n",
       "  'in_release': 23,\n",
       "  'movie_ID': 'Departed-The',\n",
       "  'theater_count': 120},\n",
       " 2: {'gross': 4278099,\n",
       "  'in_release': 5,\n",
       "  'movie_ID': 'Norbit',\n",
       "  'theater_count': 2505},\n",
       " 3: {'gross': 4573,\n",
       "  'in_release': 2,\n",
       "  'movie_ID': 'Cats-of-Mirikitan-The',\n",
       "  'theater_count': 1},\n",
       " 4: {'gross': 1229553,\n",
       "  'in_release': 4,\n",
       "  'movie_ID': 'Daddys-Little-Girls',\n",
       "  'theater_count': 798},\n",
       " 5: {'gross': 2789,\n",
       "  'in_release': 111,\n",
       "  'movie_ID': 'Aliens-of-the-Deep',\n",
       "  'theater_count': 1}}"
      ]
     },
     "execution_count": 8,
     "metadata": {},
     "output_type": "execute_result"
    }
   ],
   "source": [
    "next(comb)"
   ]
  },
  {
   "cell_type": "code",
   "execution_count": 9,
   "metadata": {
    "collapsed": true
   },
   "outputs": [],
   "source": [
    "gen = generate('weekend', **options)"
   ]
  },
  {
   "cell_type": "code",
   "execution_count": 10,
   "metadata": {},
   "outputs": [],
   "source": [
    "X, Y = next(gen)"
   ]
  },
  {
   "cell_type": "code",
   "execution_count": 11,
   "metadata": {},
   "outputs": [
    {
     "data": {
      "text/plain": [
       "(1000, 181)"
      ]
     },
     "execution_count": 11,
     "metadata": {},
     "output_type": "execute_result"
    }
   ],
   "source": [
    "X.shape"
   ]
  },
  {
   "cell_type": "code",
   "execution_count": 12,
   "metadata": {},
   "outputs": [
    {
     "data": {
      "text/plain": [
       "(1000, 6)"
      ]
     },
     "execution_count": 12,
     "metadata": {},
     "output_type": "execute_result"
    }
   ],
   "source": [
    "Y.shape"
   ]
  }
 ],
 "metadata": {
  "kernelspec": {
   "display_name": "Python 3",
   "language": "python",
   "name": "python3"
  },
  "language_info": {
   "codemirror_mode": {
    "name": "ipython",
    "version": 3
   },
   "file_extension": ".py",
   "mimetype": "text/x-python",
   "name": "python",
   "nbconvert_exporter": "python",
   "pygments_lexer": "ipython3",
   "version": "3.6.3"
  }
 },
 "nbformat": 4,
 "nbformat_minor": 2
}
