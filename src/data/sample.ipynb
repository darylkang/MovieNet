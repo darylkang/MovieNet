{
 "cells": [
  {
   "cell_type": "code",
   "execution_count": 1,
   "metadata": {
    "collapsed": true
   },
   "outputs": [],
   "source": [
    "#!/usr/bin/env python3\n",
    "\"\"\"\n",
    "Data Generator for MovieNet\n",
    "\"\"\"\n",
    "\n",
    "import datetime\n",
    "import pandas as pd\n",
    "import random"
   ]
  },
  {
   "cell_type": "code",
   "execution_count": 2,
   "metadata": {
    "collapsed": true
   },
   "outputs": [],
   "source": [
    "options = {\n",
    "    'path': '../../../data/charts/',\n",
    "    'date': {\n",
    "        'max': '2020-01-01',\n",
    "        'min': '1970-01-01'\n",
    "    },\n",
    "    'gross': {\n",
    "        'max': float('inf'),\n",
    "        'min': 1\n",
    "    },\n",
    "    'theater_count': {\n",
    "        'max': float('inf'),\n",
    "        'min': 1\n",
    "    },\n",
    "    'day_in_release': {\n",
    "        'max': float('inf'),\n",
    "        'min': 1\n",
    "    },\n",
    "    'week_in_release': {\n",
    "        'max': float('inf'),\n",
    "        'min': 1\n",
    "    },\n",
    "}"
   ]
  },
  {
   "cell_type": "code",
   "execution_count": 3,
   "metadata": {},
   "outputs": [],
   "source": [
    "def generate(mode, pool_size=6, **options):\n",
    "    \"\"\"\n",
    "    Generate random combinations of theatrical box office competition\n",
    "    \"\"\"\n",
    "    try:\n",
    "        path = options['path'] + mode + '.csv'\n",
    "    except:\n",
    "        path = '../../../data/charts/' + mode + '.csv'\n",
    "    \n",
    "    chart = pd.read_csv(path, index_col=0, usecols=[0, 3, 5, 7, 10])\n",
    "    \n",
    "    for k, v in options.items():\n",
    "        if k == 'date':\n",
    "            chart = chart.loc[v['min']:v['max']]\n",
    "        elif k in chart.columns:\n",
    "            chart = chart.loc[chart[k].between(v['min'], v['max'])]\n",
    "    \n",
    "    while True:\n",
    "        date = chart.index[random.randrange(len(chart))]\n",
    "        pool = chart.loc[date]\n",
    "        \n",
    "        n = len(pool)\n",
    "        if n < pool_size:\n",
    "            continue\n",
    "        \n",
    "        sample = {'date': datetime.date(*[int(a) for a in date.split('-')])}\n",
    "        \n",
    "        for i, e in enumerate(random.sample(range(n), pool_size)):\n",
    "            sample[i] = {j: pool.iloc[e][j] for j in chart.columns}\n",
    "        \n",
    "        yield sample"
   ]
  },
  {
   "cell_type": "code",
   "execution_count": 4,
   "metadata": {},
   "outputs": [
    {
     "data": {
      "text/plain": [
       "{'date': datetime.date(2016, 9, 9),\n",
       " 0: {'gross': 419113,\n",
       "  'movie_ID': 'Finding-Dory',\n",
       "  'theater_count': 490,\n",
       "  'week_in_release': 13},\n",
       " 1: {'gross': 4143,\n",
       "  'movie_ID': 'Germans-and-Jews',\n",
       "  'theater_count': 2,\n",
       "  'week_in_release': 14},\n",
       " 2: {'gross': 2113497,\n",
       "  'movie_ID': 'No-Manches-Frida',\n",
       "  'theater_count': 465,\n",
       "  'week_in_release': 2},\n",
       " 3: {'gross': 60827,\n",
       "  'movie_ID': 'Hillarys-America-The-Secret-History-of-the-Democratic-Party',\n",
       "  'theater_count': 169,\n",
       "  'week_in_release': 9},\n",
       " 4: {'gross': 90361,\n",
       "  'movie_ID': 'Captain-Fantastic',\n",
       "  'theater_count': 94,\n",
       "  'week_in_release': 10},\n",
       " 5: {'gross': 16760,\n",
       "  'movie_ID': 'Independence-Day-Resurgence',\n",
       "  'theater_count': 42,\n",
       "  'week_in_release': 12}}"
      ]
     },
     "execution_count": 4,
     "metadata": {},
     "output_type": "execute_result"
    }
   ],
   "source": [
    "generator = generate('weekend', **options)\n",
    "\n",
    "next(generator)"
   ]
  }
 ],
 "metadata": {
  "kernelspec": {
   "display_name": "Python 3",
   "language": "python",
   "name": "python3"
  },
  "language_info": {
   "codemirror_mode": {
    "name": "ipython",
    "version": 3
   },
   "file_extension": ".py",
   "mimetype": "text/x-python",
   "name": "python",
   "nbconvert_exporter": "python",
   "pygments_lexer": "ipython3",
   "version": "3.6.3"
  }
 },
 "nbformat": 4,
 "nbformat_minor": 2
}
